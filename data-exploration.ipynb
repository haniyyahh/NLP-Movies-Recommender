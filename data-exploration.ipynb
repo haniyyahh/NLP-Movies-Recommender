{
 "cells": [
  {
   "metadata": {},
   "cell_type": "markdown",
   "source": "# Importing dataset and pre-processing",
   "id": "c1caf31f65420f3e"
  },
  {
   "metadata": {
    "ExecuteTime": {
     "end_time": "2025-04-05T18:44:25.557955Z",
     "start_time": "2025-04-05T18:44:24.315084Z"
    }
   },
   "cell_type": "code",
   "outputs": [
    {
     "name": "stdout",
     "output_type": "stream",
     "text": [
      "Warning: Looks like you're using an outdated `kagglehub` version (installed: 0.3.10), please consider upgrading to the latest version (0.3.11).\n",
      "Path to dataset files: C:\\Users\\Owner\\.cache\\kagglehub\\datasets\\gsimonx37\\letterboxd\\versions\\2\n"
     ]
    }
   ],
   "execution_count": 1,
   "source": [
    "import kagglehub\n",
    "\n",
    "# Download latest version\n",
    "path = kagglehub.dataset_download(\"gsimonx37/letterboxd\")\n",
    "\n",
    "print(\"Path to dataset files:\", path)"
   ],
   "id": "5db32a72b1425236"
  },
  {
   "metadata": {
    "ExecuteTime": {
     "end_time": "2025-04-05T18:49:39.858239Z",
     "start_time": "2025-04-05T18:49:37.856869Z"
    }
   },
   "cell_type": "code",
   "source": "import pandas as pd",
   "id": "20ecc155918c6c56",
   "outputs": [],
   "execution_count": 2
  },
  {
   "metadata": {},
   "cell_type": "markdown",
   "source": "### For the purpose of conducting sentiment analysis on the training dataset, we must merge a few of these CSV files together so the neccessary columns are included in the pandas dataframe 'books'",
   "id": "8e4823f726df7399"
  },
  {
   "metadata": {
    "ExecuteTime": {
     "end_time": "2025-04-05T19:02:16.082825Z",
     "start_time": "2025-04-05T19:02:08.231454Z"
    }
   },
   "cell_type": "code",
   "source": [
    "# Getting all files read into their unique dataframes\n",
    "df1 = pd.read_csv(f\"{path}/movies.csv\")\n",
    "df2 = pd.read_csv(f\"{path}/themes.csv\")\n",
    "df3 = pd.read_csv(f\"{path}/genres.csv\")\n",
    "\n",
    "# one to many relationships in these two dataframes to the movie_id\n",
    "genres_grouped = df3.groupby('id')['genre'].apply(lambda x: ', '.join(x)).reset_index()\n",
    "themes_grouped = df2.groupby('id')['theme'].apply(lambda x: ', '.join(x)).reset_index()\n",
    "\n",
    "# Merge them on 'movie_id'\n",
    "books = df1.merge(themes_grouped, on=\"id\", how=\"inner\") \\\n",
    "               .merge(genres_grouped, on=\"id\", how=\"inner\")"
   ],
   "id": "c889338e2e7024a9",
   "outputs": [],
   "execution_count": 10
  },
  {
   "metadata": {
    "ExecuteTime": {
     "end_time": "2025-04-05T19:12:46.542959Z",
     "start_time": "2025-04-05T19:12:46.516263Z"
    }
   },
   "cell_type": "code",
   "source": [
    "# Grab the year for the date\n",
    "books['date'] = books['date'].astype(str).str[:4]\n",
    "\n",
    "books"
   ],
   "id": "e346ef9c96b5ef8e",
   "outputs": [
    {
     "data": {
      "text/plain": [
       "            id                               name  date  \\\n",
       "0      1000001                             Barbie  2023   \n",
       "1      1000002                           Parasite  2019   \n",
       "2      1000003  Everything Everywhere All at Once  2022   \n",
       "3      1000004                         Fight Club  1999   \n",
       "4      1000005                         La La Land  2016   \n",
       "...        ...                                ...   ...   \n",
       "24414  1664306                             Fixerr  2019   \n",
       "24415  1693420    LSD - Love, Scandal and Doctors  2021   \n",
       "24416  1702871                            Olessia  2019   \n",
       "24417  1762425                      Pretty Things  2005   \n",
       "24418  1835643                       Angela Black  2021   \n",
       "\n",
       "                                                tagline  \\\n",
       "0                      She's everything. He's just Ken.   \n",
       "1                           Act like you own the place.   \n",
       "2      The universe is so much bigger than you realize.   \n",
       "3                               Mischief. Mayhem. Soap.   \n",
       "4                        Here's to the fools who dream.   \n",
       "...                                                 ...   \n",
       "24414                                               NaN   \n",
       "24415                                               NaN   \n",
       "24416                                               NaN   \n",
       "24417                                               NaN   \n",
       "24418                 Push something enough, it breaks.   \n",
       "\n",
       "                                             description  minute  rating  \\\n",
       "0      Barbie and Ken are having the time of their li...   114.0    3.86   \n",
       "1      All unemployed, Ki-taek's family takes peculia...   133.0    4.56   \n",
       "2      An aging Chinese immigrant is swept up in an i...   140.0    4.30   \n",
       "3      A ticking-time-bomb insomniac and a slippery s...   139.0    4.27   \n",
       "4      Mia, an aspiring actress, serves lattes to mov...   129.0    4.09   \n",
       "...                                                  ...     ...     ...   \n",
       "24414  ATS Officer Jayveer Malik’s stands suspended a...   324.0     NaN   \n",
       "24415  Love, Scandal and Doctors is a story of 5 medi...   300.0     NaN   \n",
       "24416  Film with a soundtrack featuring G. Venugopal ...     NaN     NaN   \n",
       "24417  A look into the world of 20th century burlesqu...    90.0     NaN   \n",
       "24418  Angela Black leads a seemingly idyllic life wi...   270.0     NaN   \n",
       "\n",
       "                                                   theme  \\\n",
       "0      Humanity and the world around us, Crude humor ...   \n",
       "1      Humanity and the world around us, Intense viol...   \n",
       "2      Humanity and the world around us, Moving relat...   \n",
       "3      Intense violence and sexual transgression, Hum...   \n",
       "4      Song and dance, Humanity and the world around ...   \n",
       "...                                                  ...   \n",
       "24414  Thrillers and murder mysteries, High speed and...   \n",
       "24415  Thrillers and murder mysteries, High speed and...   \n",
       "24416  Song and dance, Dazzling vocal performances an...   \n",
       "24417    Song and dance, Erotic relationships and desire   \n",
       "24418  Crime, drugs and gangsters, Suspenseful crime ...   \n",
       "\n",
       "                                            genre  \n",
       "0                               Comedy, Adventure  \n",
       "1                         Comedy, Thriller, Drama  \n",
       "2      Science Fiction, Adventure, Comedy, Action  \n",
       "3                                           Drama  \n",
       "4                   Drama, Comedy, Music, Romance  \n",
       "...                                           ...  \n",
       "24414                                       Drama  \n",
       "24415                              Drama, Mystery  \n",
       "24416                                       Drama  \n",
       "24417                                 Documentary  \n",
       "24418                                       Drama  \n",
       "\n",
       "[24419 rows x 9 columns]"
      ],
      "text/html": [
       "<div>\n",
       "<style scoped>\n",
       "    .dataframe tbody tr th:only-of-type {\n",
       "        vertical-align: middle;\n",
       "    }\n",
       "\n",
       "    .dataframe tbody tr th {\n",
       "        vertical-align: top;\n",
       "    }\n",
       "\n",
       "    .dataframe thead th {\n",
       "        text-align: right;\n",
       "    }\n",
       "</style>\n",
       "<table border=\"1\" class=\"dataframe\">\n",
       "  <thead>\n",
       "    <tr style=\"text-align: right;\">\n",
       "      <th></th>\n",
       "      <th>id</th>\n",
       "      <th>name</th>\n",
       "      <th>date</th>\n",
       "      <th>tagline</th>\n",
       "      <th>description</th>\n",
       "      <th>minute</th>\n",
       "      <th>rating</th>\n",
       "      <th>theme</th>\n",
       "      <th>genre</th>\n",
       "    </tr>\n",
       "  </thead>\n",
       "  <tbody>\n",
       "    <tr>\n",
       "      <th>0</th>\n",
       "      <td>1000001</td>\n",
       "      <td>Barbie</td>\n",
       "      <td>2023</td>\n",
       "      <td>She's everything. He's just Ken.</td>\n",
       "      <td>Barbie and Ken are having the time of their li...</td>\n",
       "      <td>114.0</td>\n",
       "      <td>3.86</td>\n",
       "      <td>Humanity and the world around us, Crude humor ...</td>\n",
       "      <td>Comedy, Adventure</td>\n",
       "    </tr>\n",
       "    <tr>\n",
       "      <th>1</th>\n",
       "      <td>1000002</td>\n",
       "      <td>Parasite</td>\n",
       "      <td>2019</td>\n",
       "      <td>Act like you own the place.</td>\n",
       "      <td>All unemployed, Ki-taek's family takes peculia...</td>\n",
       "      <td>133.0</td>\n",
       "      <td>4.56</td>\n",
       "      <td>Humanity and the world around us, Intense viol...</td>\n",
       "      <td>Comedy, Thriller, Drama</td>\n",
       "    </tr>\n",
       "    <tr>\n",
       "      <th>2</th>\n",
       "      <td>1000003</td>\n",
       "      <td>Everything Everywhere All at Once</td>\n",
       "      <td>2022</td>\n",
       "      <td>The universe is so much bigger than you realize.</td>\n",
       "      <td>An aging Chinese immigrant is swept up in an i...</td>\n",
       "      <td>140.0</td>\n",
       "      <td>4.30</td>\n",
       "      <td>Humanity and the world around us, Moving relat...</td>\n",
       "      <td>Science Fiction, Adventure, Comedy, Action</td>\n",
       "    </tr>\n",
       "    <tr>\n",
       "      <th>3</th>\n",
       "      <td>1000004</td>\n",
       "      <td>Fight Club</td>\n",
       "      <td>1999</td>\n",
       "      <td>Mischief. Mayhem. Soap.</td>\n",
       "      <td>A ticking-time-bomb insomniac and a slippery s...</td>\n",
       "      <td>139.0</td>\n",
       "      <td>4.27</td>\n",
       "      <td>Intense violence and sexual transgression, Hum...</td>\n",
       "      <td>Drama</td>\n",
       "    </tr>\n",
       "    <tr>\n",
       "      <th>4</th>\n",
       "      <td>1000005</td>\n",
       "      <td>La La Land</td>\n",
       "      <td>2016</td>\n",
       "      <td>Here's to the fools who dream.</td>\n",
       "      <td>Mia, an aspiring actress, serves lattes to mov...</td>\n",
       "      <td>129.0</td>\n",
       "      <td>4.09</td>\n",
       "      <td>Song and dance, Humanity and the world around ...</td>\n",
       "      <td>Drama, Comedy, Music, Romance</td>\n",
       "    </tr>\n",
       "    <tr>\n",
       "      <th>...</th>\n",
       "      <td>...</td>\n",
       "      <td>...</td>\n",
       "      <td>...</td>\n",
       "      <td>...</td>\n",
       "      <td>...</td>\n",
       "      <td>...</td>\n",
       "      <td>...</td>\n",
       "      <td>...</td>\n",
       "      <td>...</td>\n",
       "    </tr>\n",
       "    <tr>\n",
       "      <th>24414</th>\n",
       "      <td>1664306</td>\n",
       "      <td>Fixerr</td>\n",
       "      <td>2019</td>\n",
       "      <td>NaN</td>\n",
       "      <td>ATS Officer Jayveer Malik’s stands suspended a...</td>\n",
       "      <td>324.0</td>\n",
       "      <td>NaN</td>\n",
       "      <td>Thrillers and murder mysteries, High speed and...</td>\n",
       "      <td>Drama</td>\n",
       "    </tr>\n",
       "    <tr>\n",
       "      <th>24415</th>\n",
       "      <td>1693420</td>\n",
       "      <td>LSD - Love, Scandal and Doctors</td>\n",
       "      <td>2021</td>\n",
       "      <td>NaN</td>\n",
       "      <td>Love, Scandal and Doctors is a story of 5 medi...</td>\n",
       "      <td>300.0</td>\n",
       "      <td>NaN</td>\n",
       "      <td>Thrillers and murder mysteries, High speed and...</td>\n",
       "      <td>Drama, Mystery</td>\n",
       "    </tr>\n",
       "    <tr>\n",
       "      <th>24416</th>\n",
       "      <td>1702871</td>\n",
       "      <td>Olessia</td>\n",
       "      <td>2019</td>\n",
       "      <td>NaN</td>\n",
       "      <td>Film with a soundtrack featuring G. Venugopal ...</td>\n",
       "      <td>NaN</td>\n",
       "      <td>NaN</td>\n",
       "      <td>Song and dance, Dazzling vocal performances an...</td>\n",
       "      <td>Drama</td>\n",
       "    </tr>\n",
       "    <tr>\n",
       "      <th>24417</th>\n",
       "      <td>1762425</td>\n",
       "      <td>Pretty Things</td>\n",
       "      <td>2005</td>\n",
       "      <td>NaN</td>\n",
       "      <td>A look into the world of 20th century burlesqu...</td>\n",
       "      <td>90.0</td>\n",
       "      <td>NaN</td>\n",
       "      <td>Song and dance, Erotic relationships and desire</td>\n",
       "      <td>Documentary</td>\n",
       "    </tr>\n",
       "    <tr>\n",
       "      <th>24418</th>\n",
       "      <td>1835643</td>\n",
       "      <td>Angela Black</td>\n",
       "      <td>2021</td>\n",
       "      <td>Push something enough, it breaks.</td>\n",
       "      <td>Angela Black leads a seemingly idyllic life wi...</td>\n",
       "      <td>270.0</td>\n",
       "      <td>NaN</td>\n",
       "      <td>Crime, drugs and gangsters, Suspenseful crime ...</td>\n",
       "      <td>Drama</td>\n",
       "    </tr>\n",
       "  </tbody>\n",
       "</table>\n",
       "<p>24419 rows × 9 columns</p>\n",
       "</div>"
      ]
     },
     "execution_count": 13,
     "metadata": {},
     "output_type": "execute_result"
    }
   ],
   "execution_count": 13
  },
  {
   "metadata": {
    "ExecuteTime": {
     "end_time": "2025-04-05T19:17:20.649795Z",
     "start_time": "2025-04-05T19:17:18.346440Z"
    }
   },
   "cell_type": "code",
   "source": [
    "import seaborn as sns\n",
    "import matplotlib.pyplot as plt"
   ],
   "id": "16abca4669718f5e",
   "outputs": [],
   "execution_count": 14
  },
  {
   "metadata": {
    "ExecuteTime": {
     "end_time": "2025-04-05T19:19:15.360330Z",
     "start_time": "2025-04-05T19:19:14.721858Z"
    }
   },
   "cell_type": "code",
   "source": [
    "ax = plt.axes()\n",
    "sns.heatmap(books.isna().transpose(), cbar=False, ax=ax)\n",
    "\n",
    "plt.xlabel(\"Columns\")\n",
    "plt.ylabel(\"Missing values\")\n",
    "\n",
    "plt.show()"
   ],
   "id": "b243aec05b28510a",
   "outputs": [
    {
     "data": {
      "text/plain": [
       "<Figure size 640x480 with 1 Axes>"
      ],
      "image/png": "[encoded data removed]"
     },
     "metadata": {},
     "output_type": "display_data"
    }
   ],
   "execution_count": 15
  },
  {
   "metadata": {},
   "cell_type": "markdown",
   "source": [
    "### For now, we will keep rows with missing values in the dataframe, and if bias is observed later on, we will deal with them....\n",
    "\n",
    "### MOVING ON... we will check to see if there are any categories from theme or genres that seem to be too unique. As in, only a couple movies have that theme/genre and the rest don't."
   ],
   "id": "b7f98039094ad271"
  },
  {
   "metadata": {
    "ExecuteTime": {
     "end_time": "2025-04-05T19:36:02.272851Z",
     "start_time": "2025-04-05T19:36:02.240717Z"
    }
   },
   "cell_type": "code",
   "source": [
    "# books[\"genre\"].value_counts().reset_index().sort_values(\"count\", ascending=False)\n",
    "books['genre'].str.split(', ').explode().value_counts()\n"
   ],
   "id": "8efbe854fddff68d",
   "outputs": [
    {
     "data": {
      "text/plain": [
       "genre\n",
       "Drama              11823\n",
       "Comedy              6610\n",
       "Thriller            6007\n",
       "Horror              4795\n",
       "Action              4388\n",
       "Romance             4114\n",
       "Crime               3568\n",
       "Adventure           2580\n",
       "Science Fiction     2508\n",
       "Mystery             2340\n",
       "Fantasy             1792\n",
       "Family              1443\n",
       "History             1110\n",
       "Documentary         1024\n",
       "Animation           1004\n",
       "War                  961\n",
       "Music                926\n",
       "TV Movie             620\n",
       "Western              570\n",
       "Name: count, dtype: int64"
      ]
     },
     "execution_count": 17,
     "metadata": {},
     "output_type": "execute_result"
    }
   ],
   "execution_count": 17
  },
  {
   "metadata": {},
   "cell_type": "markdown",
   "source": "### I feel as though there are a significant number for each genre type so there is no issue here. Let's check Themes...",
   "id": "37eec77bdb806dcf"
  },
  {
   "metadata": {
    "ExecuteTime": {
     "end_time": "2025-04-05T19:36:56.522869Z",
     "start_time": "2025-04-05T19:36:56.401092Z"
    }
   },
   "cell_type": "code",
   "source": "books['theme'].str.split(', ').explode().value_counts()\n",
   "id": "84ffdad821bea78b",
   "outputs": [
    {
     "data": {
      "text/plain": [
       "theme\n",
       "Moving relationship stories             4001\n",
       "Crude humor and satire                  3814\n",
       "Horror                                  3732\n",
       "the undead and monster classics         3732\n",
       "Twisted dark psychological thriller     3305\n",
       "                                        ... \n",
       "Air pilot heroism and survival           215\n",
       "Underdog fighting and boxing stories     183\n",
       "Teen friendship and coming-of-age         91\n",
       "Engaging                                  68\n",
       "intense crime and casino drama            68\n",
       "Name: count, Length: 140, dtype: int64"
      ]
     },
     "execution_count": 18,
     "metadata": {},
     "output_type": "execute_result"
    }
   ],
   "execution_count": 18
  },
  {
   "metadata": {},
   "cell_type": "markdown",
   "source": [
    "### Well, lets just leave that for later... I think the clean up for Theme might be a bit more lengthy than expected.\n",
    "\n",
    "### TODO: Probably also see if we want to clean up the descriptions of each movie, perhaps remove the short descriptions out so we can get only meaninful descriptions in the df only"
   ],
   "id": "60d3d487c670d003"
  },
  {
   "metadata": {},
   "cell_type": "markdown",
   "source": "# Vector Search / Langchain",
   "id": "789f962770511905"
  },
  {
   "metadata": {},
   "cell_type": "code",
   "outputs": [],
   "execution_count": null,
   "source": "",
   "id": "b5be4a5b38642a4b"
  }
 ],
 "metadata": {
  "kernelspec": {
   "display_name": "Python 3",
   "language": "python",
   "name": "python3"
  },
  "language_info": {
   "codemirror_mode": {
    "name": "ipython",
    "version": 2
   },
   "file_extension": ".py",
   "mimetype": "text/x-python",
   "name": "python",
   "nbconvert_exporter": "python",
   "pygments_lexer": "ipython2",
   "version": "2.7.6"
  }
 },
 "nbformat": 4,
 "nbformat_minor": 5
}
