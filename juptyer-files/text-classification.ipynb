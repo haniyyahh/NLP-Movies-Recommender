{
 "cells": [
  {
   "cell_type": "code",
   "id": "initial_id",
   "metadata": {
    "collapsed": true,
    "ExecuteTime": {
     "end_time": "2025-04-09T10:24:07.698281Z",
     "start_time": "2025-04-09T10:24:07.418773Z"
    }
   },
   "source": [
    "import pandas as pd\n",
    "\n",
    "movies = pd.read_csv(\"movies_cleaned.csv\")"
   ],
   "outputs": [],
   "execution_count": 2
  },
  {
   "metadata": {
    "ExecuteTime": {
     "end_time": "2025-04-09T10:41:47.987574Z",
     "start_time": "2025-04-09T10:41:47.951079Z"
    }
   },
   "cell_type": "code",
   "source": [
    "# movies[\"genre\"].value_counts().reset_index()\n",
    "movies['genre'].str.split(', ').explode().value_counts().reset_index()\n"
   ],
   "id": "710d5dd7b5c56f43",
   "outputs": [
    {
     "data": {
      "text/plain": [
       "              genre  count\n",
       "0             Drama  11823\n",
       "1            Comedy   6610\n",
       "2          Thriller   6007\n",
       "3            Horror   4795\n",
       "4            Action   4388\n",
       "5           Romance   4114\n",
       "6             Crime   3568\n",
       "7         Adventure   2580\n",
       "8   Science Fiction   2508\n",
       "9           Mystery   2340\n",
       "10          Fantasy   1792\n",
       "11           Family   1443\n",
       "12          History   1110\n",
       "13      Documentary   1024\n",
       "14        Animation   1004\n",
       "15              War    961\n",
       "16            Music    926\n",
       "17         TV Movie    620\n",
       "18          Western    570"
      ],
      "text/html": [
       "<div>\n",
       "<style scoped>\n",
       "    .dataframe tbody tr th:only-of-type {\n",
       "        vertical-align: middle;\n",
       "    }\n",
       "\n",
       "    .dataframe tbody tr th {\n",
       "        vertical-align: top;\n",
       "    }\n",
       "\n",
       "    .dataframe thead th {\n",
       "        text-align: right;\n",
       "    }\n",
       "</style>\n",
       "<table border=\"1\" class=\"dataframe\">\n",
       "  <thead>\n",
       "    <tr style=\"text-align: right;\">\n",
       "      <th></th>\n",
       "      <th>genre</th>\n",
       "      <th>count</th>\n",
       "    </tr>\n",
       "  </thead>\n",
       "  <tbody>\n",
       "    <tr>\n",
       "      <th>0</th>\n",
       "      <td>Drama</td>\n",
       "      <td>11823</td>\n",
       "    </tr>\n",
       "    <tr>\n",
       "      <th>1</th>\n",
       "      <td>Comedy</td>\n",
       "      <td>6610</td>\n",
       "    </tr>\n",
       "    <tr>\n",
       "      <th>2</th>\n",
       "      <td>Thriller</td>\n",
       "      <td>6007</td>\n",
       "    </tr>\n",
       "    <tr>\n",
       "      <th>3</th>\n",
       "      <td>Horror</td>\n",
       "      <td>4795</td>\n",
       "    </tr>\n",
       "    <tr>\n",
       "      <th>4</th>\n",
       "      <td>Action</td>\n",
       "      <td>4388</td>\n",
       "    </tr>\n",
       "    <tr>\n",
       "      <th>5</th>\n",
       "      <td>Romance</td>\n",
       "      <td>4114</td>\n",
       "    </tr>\n",
       "    <tr>\n",
       "      <th>6</th>\n",
       "      <td>Crime</td>\n",
       "      <td>3568</td>\n",
       "    </tr>\n",
       "    <tr>\n",
       "      <th>7</th>\n",
       "      <td>Adventure</td>\n",
       "      <td>2580</td>\n",
       "    </tr>\n",
       "    <tr>\n",
       "      <th>8</th>\n",
       "      <td>Science Fiction</td>\n",
       "      <td>2508</td>\n",
       "    </tr>\n",
       "    <tr>\n",
       "      <th>9</th>\n",
       "      <td>Mystery</td>\n",
       "      <td>2340</td>\n",
       "    </tr>\n",
       "    <tr>\n",
       "      <th>10</th>\n",
       "      <td>Fantasy</td>\n",
       "      <td>1792</td>\n",
       "    </tr>\n",
       "    <tr>\n",
       "      <th>11</th>\n",
       "      <td>Family</td>\n",
       "      <td>1443</td>\n",
       "    </tr>\n",
       "    <tr>\n",
       "      <th>12</th>\n",
       "      <td>History</td>\n",
       "      <td>1110</td>\n",
       "    </tr>\n",
       "    <tr>\n",
       "      <th>13</th>\n",
       "      <td>Documentary</td>\n",
       "      <td>1024</td>\n",
       "    </tr>\n",
       "    <tr>\n",
       "      <th>14</th>\n",
       "      <td>Animation</td>\n",
       "      <td>1004</td>\n",
       "    </tr>\n",
       "    <tr>\n",
       "      <th>15</th>\n",
       "      <td>War</td>\n",
       "      <td>961</td>\n",
       "    </tr>\n",
       "    <tr>\n",
       "      <th>16</th>\n",
       "      <td>Music</td>\n",
       "      <td>926</td>\n",
       "    </tr>\n",
       "    <tr>\n",
       "      <th>17</th>\n",
       "      <td>TV Movie</td>\n",
       "      <td>620</td>\n",
       "    </tr>\n",
       "    <tr>\n",
       "      <th>18</th>\n",
       "      <td>Western</td>\n",
       "      <td>570</td>\n",
       "    </tr>\n",
       "  </tbody>\n",
       "</table>\n",
       "</div>"
      ]
     },
     "execution_count": 13,
     "metadata": {},
     "output_type": "execute_result"
    }
   ],
   "execution_count": 13
  },
  {
   "metadata": {
    "ExecuteTime": {
     "end_time": "2025-04-09T10:34:16.017135Z",
     "start_time": "2025-04-09T10:34:15.986701Z"
    }
   },
   "cell_type": "code",
   "source": [
    "# num of genres with 50 or more movies\n",
    "movies[\"genre\"].str.split(', ').explode().value_counts().reset_index().query(\"count > 1000\")\n"
   ],
   "id": "ad9deb865e8b744",
   "outputs": [
    {
     "data": {
      "text/plain": [
       "              genre  count\n",
       "0             Drama  11823\n",
       "1            Comedy   6610\n",
       "2          Thriller   6007\n",
       "3            Horror   4795\n",
       "4            Action   4388\n",
       "5           Romance   4114\n",
       "6             Crime   3568\n",
       "7         Adventure   2580\n",
       "8   Science Fiction   2508\n",
       "9           Mystery   2340\n",
       "10          Fantasy   1792\n",
       "11           Family   1443\n",
       "12          History   1110\n",
       "13      Documentary   1024\n",
       "14        Animation   1004"
      ],
      "text/html": [
       "<div>\n",
       "<style scoped>\n",
       "    .dataframe tbody tr th:only-of-type {\n",
       "        vertical-align: middle;\n",
       "    }\n",
       "\n",
       "    .dataframe tbody tr th {\n",
       "        vertical-align: top;\n",
       "    }\n",
       "\n",
       "    .dataframe thead th {\n",
       "        text-align: right;\n",
       "    }\n",
       "</style>\n",
       "<table border=\"1\" class=\"dataframe\">\n",
       "  <thead>\n",
       "    <tr style=\"text-align: right;\">\n",
       "      <th></th>\n",
       "      <th>genre</th>\n",
       "      <th>count</th>\n",
       "    </tr>\n",
       "  </thead>\n",
       "  <tbody>\n",
       "    <tr>\n",
       "      <th>0</th>\n",
       "      <td>Drama</td>\n",
       "      <td>11823</td>\n",
       "    </tr>\n",
       "    <tr>\n",
       "      <th>1</th>\n",
       "      <td>Comedy</td>\n",
       "      <td>6610</td>\n",
       "    </tr>\n",
       "    <tr>\n",
       "      <th>2</th>\n",
       "      <td>Thriller</td>\n",
       "      <td>6007</td>\n",
       "    </tr>\n",
       "    <tr>\n",
       "      <th>3</th>\n",
       "      <td>Horror</td>\n",
       "      <td>4795</td>\n",
       "    </tr>\n",
       "    <tr>\n",
       "      <th>4</th>\n",
       "      <td>Action</td>\n",
       "      <td>4388</td>\n",
       "    </tr>\n",
       "    <tr>\n",
       "      <th>5</th>\n",
       "      <td>Romance</td>\n",
       "      <td>4114</td>\n",
       "    </tr>\n",
       "    <tr>\n",
       "      <th>6</th>\n",
       "      <td>Crime</td>\n",
       "      <td>3568</td>\n",
       "    </tr>\n",
       "    <tr>\n",
       "      <th>7</th>\n",
       "      <td>Adventure</td>\n",
       "      <td>2580</td>\n",
       "    </tr>\n",
       "    <tr>\n",
       "      <th>8</th>\n",
       "      <td>Science Fiction</td>\n",
       "      <td>2508</td>\n",
       "    </tr>\n",
       "    <tr>\n",
       "      <th>9</th>\n",
       "      <td>Mystery</td>\n",
       "      <td>2340</td>\n",
       "    </tr>\n",
       "    <tr>\n",
       "      <th>10</th>\n",
       "      <td>Fantasy</td>\n",
       "      <td>1792</td>\n",
       "    </tr>\n",
       "    <tr>\n",
       "      <th>11</th>\n",
       "      <td>Family</td>\n",
       "      <td>1443</td>\n",
       "    </tr>\n",
       "    <tr>\n",
       "      <th>12</th>\n",
       "      <td>History</td>\n",
       "      <td>1110</td>\n",
       "    </tr>\n",
       "    <tr>\n",
       "      <th>13</th>\n",
       "      <td>Documentary</td>\n",
       "      <td>1024</td>\n",
       "    </tr>\n",
       "    <tr>\n",
       "      <th>14</th>\n",
       "      <td>Animation</td>\n",
       "      <td>1004</td>\n",
       "    </tr>\n",
       "  </tbody>\n",
       "</table>\n",
       "</div>"
      ]
     },
     "execution_count": 12,
     "metadata": {},
     "output_type": "execute_result"
    }
   ],
   "execution_count": 12
  },
  {
   "metadata": {
    "ExecuteTime": {
     "end_time": "2025-04-09T10:45:35.717273Z",
     "start_time": "2025-04-09T10:45:35.567091Z"
    }
   },
   "cell_type": "code",
   "source": [
    "genre_map = {\n",
    "    \"Drama\": \"Emotional\",\n",
    "    \"Romance\": \"Emotional\",\n",
    "    \"War\": \"Emotional\",\n",
    "    \"Comedy\": \"Feel-good\",\n",
    "    \"Family\": \"Feel-good\",\n",
    "    \"Animation\": \"Feel-good\",\n",
    "    \"Thriller\": \"Suspenseful\",\n",
    "    \"Horror\": \"Suspenseful\",\n",
    "    \"Crime\": \"Suspenseful\",\n",
    "    \"Mystery\": \"Suspenseful\",\n",
    "    \"Action\": \"Escapist\",\n",
    "    \"Adventure\": \"Escapist\",\n",
    "    \"Science Fiction\": \"Escapist\",\n",
    "    \"Fantasy\": \"Escapist\",\n",
    "    \"History\": \"Educational\",\n",
    "    \"Documentary\": \"Educational\",\n",
    "    \"Music\": \"Artistic\",\n",
    "    \"TV Movie\": \"Classic\",\n",
    "    \"Western\": \"Classic\"\n",
    "}\n",
    "\n",
    "# movies[\"simple_genres\"] = movies[\"genre\"].map(genre_map)\n",
    "def map_genres(genre_str):\n",
    "    genres = genre_str.split(\", \")\n",
    "    mapped = [genre_map[g] for g in genres if g in genre_map]\n",
    "    return list(set(mapped))  # Optional: remove duplicates\n",
    "\n",
    "movies[\"simple_genres\"] = movies[\"genre\"].apply(map_genres)"
   ],
   "id": "dbe1142c9b0fa27c",
   "outputs": [],
   "execution_count": 17
  },
  {
   "metadata": {
    "ExecuteTime": {
     "end_time": "2025-04-09T10:45:38.339241Z",
     "start_time": "2025-04-09T10:45:38.325173Z"
    }
   },
   "cell_type": "code",
   "source": "movies",
   "id": "f6758af98286ab2",
   "outputs": [
    {
     "data": {
      "text/plain": [
       "            id                               name    date  \\\n",
       "0      1000001                             Barbie  2023.0   \n",
       "1      1000002                           Parasite  2019.0   \n",
       "2      1000003  Everything Everywhere All at Once  2022.0   \n",
       "3      1000004                         Fight Club  1999.0   \n",
       "4      1000005                         La La Land  2016.0   \n",
       "...        ...                                ...     ...   \n",
       "24414  1664306                             Fixerr  2019.0   \n",
       "24415  1693420    LSD - Love, Scandal and Doctors  2021.0   \n",
       "24416  1702871                            Olessia  2019.0   \n",
       "24417  1762425                      Pretty Things  2005.0   \n",
       "24418  1835643                       Angela Black  2021.0   \n",
       "\n",
       "                                                tagline  \\\n",
       "0                      She's everything. He's just Ken.   \n",
       "1                           Act like you own the place.   \n",
       "2      The universe is so much bigger than you realize.   \n",
       "3                               Mischief. Mayhem. Soap.   \n",
       "4                        Here's to the fools who dream.   \n",
       "...                                                 ...   \n",
       "24414                                               NaN   \n",
       "24415                                               NaN   \n",
       "24416                                               NaN   \n",
       "24417                                               NaN   \n",
       "24418                 Push something enough, it breaks.   \n",
       "\n",
       "                                             description  minute  rating  \\\n",
       "0      Barbie and Ken are having the time of their li...   114.0    3.86   \n",
       "1      All unemployed, Ki-taek's family takes peculia...   133.0    4.56   \n",
       "2      An aging Chinese immigrant is swept up in an i...   140.0    4.30   \n",
       "3      A ticking-time-bomb insomniac and a slippery s...   139.0    4.27   \n",
       "4      Mia, an aspiring actress, serves lattes to mov...   129.0    4.09   \n",
       "...                                                  ...     ...     ...   \n",
       "24414  ATS Officer Jayveer Malik’s stands suspended a...   324.0     NaN   \n",
       "24415  Love, Scandal and Doctors is a story of 5 medi...   300.0     NaN   \n",
       "24416  Film with a soundtrack featuring G. Venugopal ...     NaN     NaN   \n",
       "24417  A look into the world of 20th century burlesqu...    90.0     NaN   \n",
       "24418  Angela Black leads a seemingly idyllic life wi...   270.0     NaN   \n",
       "\n",
       "                                                   theme  \\\n",
       "0      Humanity and the world around us, Crude humor ...   \n",
       "1      Humanity and the world around us, Intense viol...   \n",
       "2      Humanity and the world around us, Moving relat...   \n",
       "3      Intense violence and sexual transgression, Hum...   \n",
       "4      Song and dance, Humanity and the world around ...   \n",
       "...                                                  ...   \n",
       "24414  Thrillers and murder mysteries, High speed and...   \n",
       "24415  Thrillers and murder mysteries, High speed and...   \n",
       "24416  Song and dance, Dazzling vocal performances an...   \n",
       "24417    Song and dance, Erotic relationships and desire   \n",
       "24418  Crime, drugs and gangsters, Suspenseful crime ...   \n",
       "\n",
       "                                            genre  \\\n",
       "0                               Comedy, Adventure   \n",
       "1                         Comedy, Thriller, Drama   \n",
       "2      Science Fiction, Adventure, Comedy, Action   \n",
       "3                                           Drama   \n",
       "4                   Drama, Comedy, Music, Romance   \n",
       "...                                           ...   \n",
       "24414                                       Drama   \n",
       "24415                              Drama, Mystery   \n",
       "24416                                       Drama   \n",
       "24417                                 Documentary   \n",
       "24418                                       Drama   \n",
       "\n",
       "                                      tagged_description  \\\n",
       "0      1000001 Barbie and Ken are having the time of ...   \n",
       "1      1000002 All unemployed, Ki-taek's family takes...   \n",
       "2      1000003 An aging Chinese immigrant is swept up...   \n",
       "3      1000004 A ticking-time-bomb insomniac and a sl...   \n",
       "4      1000005 Mia, an aspiring actress, serves latte...   \n",
       "...                                                  ...   \n",
       "24414  1664306 ATS Officer Jayveer Malik’s stands sus...   \n",
       "24415  1693420 Love, Scandal and Doctors is a story o...   \n",
       "24416  1702871 Film with a soundtrack featuring G. Ve...   \n",
       "24417  1762425 A look into the world of 20th century ...   \n",
       "24418  1835643 Angela Black leads a seemingly idyllic...   \n",
       "\n",
       "                             simple_genres  \n",
       "0                    [Escapist, Feel-good]  \n",
       "1      [Feel-good, Suspenseful, Emotional]  \n",
       "2                    [Escapist, Feel-good]  \n",
       "3                              [Emotional]  \n",
       "4         [Artistic, Emotional, Feel-good]  \n",
       "...                                    ...  \n",
       "24414                          [Emotional]  \n",
       "24415             [Emotional, Suspenseful]  \n",
       "24416                          [Emotional]  \n",
       "24417                        [Educational]  \n",
       "24418                          [Emotional]  \n",
       "\n",
       "[24419 rows x 11 columns]"
      ],
      "text/html": [
       "<div>\n",
       "<style scoped>\n",
       "    .dataframe tbody tr th:only-of-type {\n",
       "        vertical-align: middle;\n",
       "    }\n",
       "\n",
       "    .dataframe tbody tr th {\n",
       "        vertical-align: top;\n",
       "    }\n",
       "\n",
       "    .dataframe thead th {\n",
       "        text-align: right;\n",
       "    }\n",
       "</style>\n",
       "<table border=\"1\" class=\"dataframe\">\n",
       "  <thead>\n",
       "    <tr style=\"text-align: right;\">\n",
       "      <th></th>\n",
       "      <th>id</th>\n",
       "      <th>name</th>\n",
       "      <th>date</th>\n",
       "      <th>tagline</th>\n",
       "      <th>description</th>\n",
       "      <th>minute</th>\n",
       "      <th>rating</th>\n",
       "      <th>theme</th>\n",
       "      <th>genre</th>\n",
       "      <th>tagged_description</th>\n",
       "      <th>simple_genres</th>\n",
       "    </tr>\n",
       "  </thead>\n",
       "  <tbody>\n",
       "    <tr>\n",
       "      <th>0</th>\n",
       "      <td>1000001</td>\n",
       "      <td>Barbie</td>\n",
       "      <td>2023.0</td>\n",
       "      <td>She's everything. He's just Ken.</td>\n",
       "      <td>Barbie and Ken are having the time of their li...</td>\n",
       "      <td>114.0</td>\n",
       "      <td>3.86</td>\n",
       "      <td>Humanity and the world around us, Crude humor ...</td>\n",
       "      <td>Comedy, Adventure</td>\n",
       "      <td>1000001 Barbie and Ken are having the time of ...</td>\n",
       "      <td>[Escapist, Feel-good]</td>\n",
       "    </tr>\n",
       "    <tr>\n",
       "      <th>1</th>\n",
       "      <td>1000002</td>\n",
       "      <td>Parasite</td>\n",
       "      <td>2019.0</td>\n",
       "      <td>Act like you own the place.</td>\n",
       "      <td>All unemployed, Ki-taek's family takes peculia...</td>\n",
       "      <td>133.0</td>\n",
       "      <td>4.56</td>\n",
       "      <td>Humanity and the world around us, Intense viol...</td>\n",
       "      <td>Comedy, Thriller, Drama</td>\n",
       "      <td>1000002 All unemployed, Ki-taek's family takes...</td>\n",
       "      <td>[Feel-good, Suspenseful, Emotional]</td>\n",
       "    </tr>\n",
       "    <tr>\n",
       "      <th>2</th>\n",
       "      <td>1000003</td>\n",
       "      <td>Everything Everywhere All at Once</td>\n",
       "      <td>2022.0</td>\n",
       "      <td>The universe is so much bigger than you realize.</td>\n",
       "      <td>An aging Chinese immigrant is swept up in an i...</td>\n",
       "      <td>140.0</td>\n",
       "      <td>4.30</td>\n",
       "      <td>Humanity and the world around us, Moving relat...</td>\n",
       "      <td>Science Fiction, Adventure, Comedy, Action</td>\n",
       "      <td>1000003 An aging Chinese immigrant is swept up...</td>\n",
       "      <td>[Escapist, Feel-good]</td>\n",
       "    </tr>\n",
       "    <tr>\n",
       "      <th>3</th>\n",
       "      <td>1000004</td>\n",
       "      <td>Fight Club</td>\n",
       "      <td>1999.0</td>\n",
       "      <td>Mischief. Mayhem. Soap.</td>\n",
       "      <td>A ticking-time-bomb insomniac and a slippery s...</td>\n",
       "      <td>139.0</td>\n",
       "      <td>4.27</td>\n",
       "      <td>Intense violence and sexual transgression, Hum...</td>\n",
       "      <td>Drama</td>\n",
       "      <td>1000004 A ticking-time-bomb insomniac and a sl...</td>\n",
       "      <td>[Emotional]</td>\n",
       "    </tr>\n",
       "    <tr>\n",
       "      <th>4</th>\n",
       "      <td>1000005</td>\n",
       "      <td>La La Land</td>\n",
       "      <td>2016.0</td>\n",
       "      <td>Here's to the fools who dream.</td>\n",
       "      <td>Mia, an aspiring actress, serves lattes to mov...</td>\n",
       "      <td>129.0</td>\n",
       "      <td>4.09</td>\n",
       "      <td>Song and dance, Humanity and the world around ...</td>\n",
       "      <td>Drama, Comedy, Music, Romance</td>\n",
       "      <td>1000005 Mia, an aspiring actress, serves latte...</td>\n",
       "      <td>[Artistic, Emotional, Feel-good]</td>\n",
       "    </tr>\n",
       "    <tr>\n",
       "      <th>...</th>\n",
       "      <td>...</td>\n",
       "      <td>...</td>\n",
       "      <td>...</td>\n",
       "      <td>...</td>\n",
       "      <td>...</td>\n",
       "      <td>...</td>\n",
       "      <td>...</td>\n",
       "      <td>...</td>\n",
       "      <td>...</td>\n",
       "      <td>...</td>\n",
       "      <td>...</td>\n",
       "    </tr>\n",
       "    <tr>\n",
       "      <th>24414</th>\n",
       "      <td>1664306</td>\n",
       "      <td>Fixerr</td>\n",
       "      <td>2019.0</td>\n",
       "      <td>NaN</td>\n",
       "      <td>ATS Officer Jayveer Malik’s stands suspended a...</td>\n",
       "      <td>324.0</td>\n",
       "      <td>NaN</td>\n",
       "      <td>Thrillers and murder mysteries, High speed and...</td>\n",
       "      <td>Drama</td>\n",
       "      <td>1664306 ATS Officer Jayveer Malik’s stands sus...</td>\n",
       "      <td>[Emotional]</td>\n",
       "    </tr>\n",
       "    <tr>\n",
       "      <th>24415</th>\n",
       "      <td>1693420</td>\n",
       "      <td>LSD - Love, Scandal and Doctors</td>\n",
       "      <td>2021.0</td>\n",
       "      <td>NaN</td>\n",
       "      <td>Love, Scandal and Doctors is a story of 5 medi...</td>\n",
       "      <td>300.0</td>\n",
       "      <td>NaN</td>\n",
       "      <td>Thrillers and murder mysteries, High speed and...</td>\n",
       "      <td>Drama, Mystery</td>\n",
       "      <td>1693420 Love, Scandal and Doctors is a story o...</td>\n",
       "      <td>[Emotional, Suspenseful]</td>\n",
       "    </tr>\n",
       "    <tr>\n",
       "      <th>24416</th>\n",
       "      <td>1702871</td>\n",
       "      <td>Olessia</td>\n",
       "      <td>2019.0</td>\n",
       "      <td>NaN</td>\n",
       "      <td>Film with a soundtrack featuring G. Venugopal ...</td>\n",
       "      <td>NaN</td>\n",
       "      <td>NaN</td>\n",
       "      <td>Song and dance, Dazzling vocal performances an...</td>\n",
       "      <td>Drama</td>\n",
       "      <td>1702871 Film with a soundtrack featuring G. Ve...</td>\n",
       "      <td>[Emotional]</td>\n",
       "    </tr>\n",
       "    <tr>\n",
       "      <th>24417</th>\n",
       "      <td>1762425</td>\n",
       "      <td>Pretty Things</td>\n",
       "      <td>2005.0</td>\n",
       "      <td>NaN</td>\n",
       "      <td>A look into the world of 20th century burlesqu...</td>\n",
       "      <td>90.0</td>\n",
       "      <td>NaN</td>\n",
       "      <td>Song and dance, Erotic relationships and desire</td>\n",
       "      <td>Documentary</td>\n",
       "      <td>1762425 A look into the world of 20th century ...</td>\n",
       "      <td>[Educational]</td>\n",
       "    </tr>\n",
       "    <tr>\n",
       "      <th>24418</th>\n",
       "      <td>1835643</td>\n",
       "      <td>Angela Black</td>\n",
       "      <td>2021.0</td>\n",
       "      <td>Push something enough, it breaks.</td>\n",
       "      <td>Angela Black leads a seemingly idyllic life wi...</td>\n",
       "      <td>270.0</td>\n",
       "      <td>NaN</td>\n",
       "      <td>Crime, drugs and gangsters, Suspenseful crime ...</td>\n",
       "      <td>Drama</td>\n",
       "      <td>1835643 Angela Black leads a seemingly idyllic...</td>\n",
       "      <td>[Emotional]</td>\n",
       "    </tr>\n",
       "  </tbody>\n",
       "</table>\n",
       "<p>24419 rows × 11 columns</p>\n",
       "</div>"
      ]
     },
     "execution_count": 18,
     "metadata": {},
     "output_type": "execute_result"
    }
   ],
   "execution_count": 18
  },
  {
   "metadata": {},
   "cell_type": "markdown",
   "source": "### At this point of coding I am thinking categorizing based off THEME instead of GENRE might be the better move. But for starting purposes, I am keeping it with genres",
   "id": "f4e61e7fdf8eaff7"
  },
  {
   "metadata": {
    "ExecuteTime": {
     "end_time": "2025-04-09T21:26:42.685535Z",
     "start_time": "2025-04-09T21:26:34.543546Z"
    }
   },
   "cell_type": "code",
   "source": [
    "# checking to see if the GPU is available, in my case it is not\n",
    "import torch\n",
    "print(torch.cuda.is_available())"
   ],
   "id": "4c2f594cdc5a0000",
   "outputs": [
    {
     "name": "stdout",
     "output_type": "stream",
     "text": [
      "False\n",
      "False\n"
     ]
    }
   ],
   "execution_count": 19
  },
  {
   "metadata": {
    "ExecuteTime": {
     "end_time": "2025-04-09T21:38:25.978573Z",
     "start_time": "2025-04-09T21:28:38.291424Z"
    }
   },
   "cell_type": "code",
   "source": [
    "from transformers import pipeline\n",
    "\n",
    "\n",
    "pipe = pipeline(\"zero-shot-classification\", model=\"facebook/bart-large-mnli\", device=-1)\n"
   ],
   "id": "7689aa696e835de9",
   "outputs": [
    {
     "data": {
      "text/plain": [
       "config.json:   0%|          | 0.00/1.15k [00:00<?, ?B/s]"
      ],
      "application/vnd.jupyter.widget-view+json": {
       "version_major": 2,
       "version_minor": 0,
       "model_id": "5bb766f966ac4386a49a875fae81dfa1"
      }
     },
     "metadata": {},
     "output_type": "display_data"
    },
    {
     "data": {
      "text/plain": [
       "config.json:   0%|          | 0.00/1.15k [00:00<?, ?B/s]"
      ],
      "application/vnd.jupyter.widget-view+json": {
       "version_major": 2,
       "version_minor": 0,
       "model_id": "5bb766f966ac4386a49a875fae81dfa1"
      }
     },
     "metadata": {},
     "output_type": "display_data"
    },
    {
     "name": "stderr",
     "output_type": "stream",
     "text": [
      "C:\\Users\\Owner\\PycharmProjects\\movie-recommender\\.venv\\Lib\\site-packages\\huggingface_hub\\file_download.py:142: UserWarning: `huggingface_hub` cache-system uses symlinks by default to efficiently store duplicated files but your machine does not support them in C:\\Users\\Owner\\.cache\\huggingface\\hub\\models--facebook--bart-large-mnli. Caching files will still work but in a degraded version that might require more space on your disk. This warning can be disabled by setting the `HF_HUB_DISABLE_SYMLINKS_WARNING` environment variable. For more details, see https://huggingface.co/docs/huggingface_hub/how-to-cache#limitations.\n",
      "To support symlinks on Windows, you either need to activate Developer Mode or to run Python as an administrator. In order to activate developer mode, see this article: https://docs.microsoft.com/en-us/windows/apps/get-started/enable-your-device-for-development\n",
      "  warnings.warn(message)\n",
      "C:\\Users\\Owner\\PycharmProjects\\movie-recommender\\.venv\\Lib\\site-packages\\huggingface_hub\\file_download.py:142: UserWarning: `huggingface_hub` cache-system uses symlinks by default to efficiently store duplicated files but your machine does not support them in C:\\Users\\Owner\\.cache\\huggingface\\hub\\models--facebook--bart-large-mnli. Caching files will still work but in a degraded version that might require more space on your disk. This warning can be disabled by setting the `HF_HUB_DISABLE_SYMLINKS_WARNING` environment variable. For more details, see https://huggingface.co/docs/huggingface_hub/how-to-cache#limitations.\n",
      "To support symlinks on Windows, you either need to activate Developer Mode or to run Python as an administrator. In order to activate developer mode, see this article: https://docs.microsoft.com/en-us/windows/apps/get-started/enable-your-device-for-development\n",
      "  warnings.warn(message)\n"
     ]
    },
    {
     "data": {
      "text/plain": [
       "model.safetensors:   0%|          | 0.00/1.63G [00:00<?, ?B/s]"
      ],
      "application/vnd.jupyter.widget-view+json": {
       "version_major": 2,
       "version_minor": 0,
       "model_id": "04161344aa6a4611a058b201a76c3752"
      }
     },
     "metadata": {},
     "output_type": "display_data"
    },
    {
     "data": {
      "text/plain": [
       "model.safetensors:   0%|          | 0.00/1.63G [00:00<?, ?B/s]"
      ],
      "application/vnd.jupyter.widget-view+json": {
       "version_major": 2,
       "version_minor": 0,
       "model_id": "04161344aa6a4611a058b201a76c3752"
      }
     },
     "metadata": {},
     "output_type": "display_data"
    },
    {
     "data": {
      "text/plain": [
       "tokenizer_config.json:   0%|          | 0.00/26.0 [00:00<?, ?B/s]"
      ],
      "application/vnd.jupyter.widget-view+json": {
       "version_major": 2,
       "version_minor": 0,
       "model_id": "9ddd55604a5c488d9ba3422b987e61b7"
      }
     },
     "metadata": {},
     "output_type": "display_data"
    },
    {
     "data": {
      "text/plain": [
       "tokenizer_config.json:   0%|          | 0.00/26.0 [00:00<?, ?B/s]"
      ],
      "application/vnd.jupyter.widget-view+json": {
       "version_major": 2,
       "version_minor": 0,
       "model_id": "9ddd55604a5c488d9ba3422b987e61b7"
      }
     },
     "metadata": {},
     "output_type": "display_data"
    },
    {
     "data": {
      "text/plain": [
       "vocab.json:   0%|          | 0.00/899k [00:00<?, ?B/s]"
      ],
      "application/vnd.jupyter.widget-view+json": {
       "version_major": 2,
       "version_minor": 0,
       "model_id": "c79bc5ef85e841929923b2af27b4e44d"
      }
     },
     "metadata": {},
     "output_type": "display_data"
    },
    {
     "data": {
      "text/plain": [
       "vocab.json:   0%|          | 0.00/899k [00:00<?, ?B/s]"
      ],
      "application/vnd.jupyter.widget-view+json": {
       "version_major": 2,
       "version_minor": 0,
       "model_id": "c79bc5ef85e841929923b2af27b4e44d"
      }
     },
     "metadata": {},
     "output_type": "display_data"
    },
    {
     "data": {
      "text/plain": [
       "merges.txt:   0%|          | 0.00/456k [00:00<?, ?B/s]"
      ],
      "application/vnd.jupyter.widget-view+json": {
       "version_major": 2,
       "version_minor": 0,
       "model_id": "f42604c2b276442fa367a0d8a35310f5"
      }
     },
     "metadata": {},
     "output_type": "display_data"
    },
    {
     "data": {
      "text/plain": [
       "merges.txt:   0%|          | 0.00/456k [00:00<?, ?B/s]"
      ],
      "application/vnd.jupyter.widget-view+json": {
       "version_major": 2,
       "version_minor": 0,
       "model_id": "f42604c2b276442fa367a0d8a35310f5"
      }
     },
     "metadata": {},
     "output_type": "display_data"
    },
    {
     "data": {
      "text/plain": [
       "tokenizer.json:   0%|          | 0.00/1.36M [00:00<?, ?B/s]"
      ],
      "application/vnd.jupyter.widget-view+json": {
       "version_major": 2,
       "version_minor": 0,
       "model_id": "c1679594524f43128cecae05c412e560"
      }
     },
     "metadata": {},
     "output_type": "display_data"
    },
    {
     "data": {
      "text/plain": [
       "tokenizer.json:   0%|          | 0.00/1.36M [00:00<?, ?B/s]"
      ],
      "application/vnd.jupyter.widget-view+json": {
       "version_major": 2,
       "version_minor": 0,
       "model_id": "c1679594524f43128cecae05c412e560"
      }
     },
     "metadata": {},
     "output_type": "display_data"
    },
    {
     "name": "stderr",
     "output_type": "stream",
     "text": [
      "Device set to use cpu\n",
      "Device set to use cpu\n"
     ]
    }
   ],
   "execution_count": 20
  },
  {
   "metadata": {
    "ExecuteTime": {
     "end_time": "2025-04-09T22:04:45.313502Z",
     "start_time": "2025-04-09T22:04:45.303035Z"
    }
   },
   "cell_type": "code",
   "source": [
    "genre_categories = [\n",
    "    'Artistic',\n",
    "    'Classic',\n",
    "    'Educational',\n",
    "    'Emotional',\n",
    "    'Escapist',\n",
    "    'Feel-good',\n",
    "    'Suspenseful'\n",
    "]\n",
    "# print(genre_categories)\n",
    "# sequence = movies.loc[movies[\"simple_genres\"] == \"Drama\", \"description\"].reset_index(drop=True)[0]\n",
    "drama_movies = movies[movies[\"simple_genres\"].apply(lambda x: \"Emotional\" in x)]\n",
    "sequence = drama_movies[\"description\"].reset_index(drop=True)[0]\n",
    "sequence\n",
    "# movies"
   ],
   "id": "592936ae033cd69d",
   "outputs": [
    {
     "data": {
      "text/plain": [
       "\"All unemployed, Ki-taek's family takes peculiar interest in the wealthy and glamorous Parks for their livelihood until they get entangled in an unexpected incident.\""
      ]
     },
     "execution_count": 65,
     "metadata": {},
     "output_type": "execute_result"
    }
   ],
   "execution_count": 65
  },
  {
   "metadata": {},
   "cell_type": "markdown",
   "source": "### Using argmax, we will see what the model yields the most likely category for this specific movie",
   "id": "3bdffc5e4c34463b"
  },
  {
   "metadata": {
    "ExecuteTime": {
     "end_time": "2025-04-09T22:05:05.667736Z",
     "start_time": "2025-04-09T22:05:03.149717Z"
    }
   },
   "cell_type": "code",
   "source": [
    "import numpy as np\n",
    "\n",
    "\n",
    "# results = pipe(sequence, genre_categories)\n",
    "# print(\"Results before sorting:\")\n",
    "# print(\"Labels:\", results['labels'])\n",
    "# print(\"Scores:\", results['scores'])\n",
    "# print(results)\n",
    "# Sort the results based on scores in descending order\n",
    "# sorted_indices = np.argsort(results['scores'])[::-1]\n",
    "#\n",
    "# # # Get top 3 labels and scores\n",
    "# top_labels = [results['labels'][i] for i in sorted_indices[:3]]\n",
    "# top_scores = [results['scores'][i] for i in sorted_indices[:3]]\n",
    "# # print(top_scores)\n",
    "# # Print top 3 labels and scores\n",
    "# for label, score in zip(top_labels, top_scores):\n",
    "#     print(f\"{label}: {score:.4f}\")\n",
    "\n",
    "max_index = np.argmax(pipe(sequence, genre_categories)[\"scores\"])\n",
    "max_label = pipe(sequence, genre_categories)[\"labels\"][max_index]\n",
    "max_label"
   ],
   "id": "3b49b13857dea8dc",
   "outputs": [
    {
     "data": {
      "text/plain": [
       "'Suspenseful'"
      ]
     },
     "execution_count": 67,
     "metadata": {},
     "output_type": "execute_result"
    },
    {
     "data": {
      "text/plain": [
       "'Suspenseful'"
      ]
     },
     "execution_count": 67,
     "metadata": {},
     "output_type": "execute_result"
    }
   ],
   "execution_count": 67
  }
 ],
 "metadata": {
  "kernelspec": {
   "display_name": "Python 3",
   "language": "python",
   "name": "python3"
  },
  "language_info": {
   "codemirror_mode": {
    "name": "ipython",
    "version": 2
   },
   "file_extension": ".py",
   "mimetype": "text/x-python",
   "name": "python",
   "nbconvert_exporter": "python",
   "pygments_lexer": "ipython2",
   "version": "2.7.6"
  }
 },
 "nbformat": 4,
 "nbformat_minor": 5
}
